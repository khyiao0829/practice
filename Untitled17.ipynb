{
  "nbformat": 4,
  "nbformat_minor": 0,
  "metadata": {
    "colab": {
      "provenance": [],
      "toc_visible": true,
      "authorship_tag": "ABX9TyM+kdFzoVwiallUrxIPP52E",
      "include_colab_link": true
    },
    "kernelspec": {
      "name": "python3",
      "display_name": "Python 3"
    },
    "language_info": {
      "name": "python"
    }
  },
  "cells": [
    {
      "cell_type": "markdown",
      "metadata": {
        "id": "view-in-github",
        "colab_type": "text"
      },
      "source": [
        "<a href=\"https://colab.research.google.com/github/khyiao0829/practice/blob/master/Untitled17.ipynb\" target=\"_parent\"><img src=\"https://colab.research.google.com/assets/colab-badge.svg\" alt=\"Open In Colab\"/></a>"
      ]
    },
    {
      "cell_type": "code",
      "source": [
        "import numpy as np"
      ],
      "metadata": {
        "id": "FAw4LouE8FI_"
      },
      "execution_count": 1,
      "outputs": []
    },
    {
      "cell_type": "code",
      "execution_count": 2,
      "metadata": {
        "id": "9xqEWXb-7c19"
      },
      "outputs": [],
      "source": [
        "#1. MDP 정의\n",
        "# (1) S\n",
        "shape = (4,4)\n",
        "terminal = [(0,0),(3,3)]\n",
        "\n",
        "# (2) A\n",
        "numa = 4\n",
        "actions = ['up','down','left','right']\n",
        "\n",
        "# (4) R\n",
        "reward = -1 * np.ones(shape)\n",
        "for terminal in terminal:\n",
        "  reward[terminal] = 0\n",
        "\n",
        "# (5) gamma\n",
        "gamma= 1.0"
      ]
    },
    {
      "cell_type": "code",
      "source": [
        "# (3) P\n",
        "def P (state,action):\n",
        "  if action == 'up':\n",
        "    next_state = (max(0, state[0]-1),state[1])\n",
        "  elif action == 'down':\n",
        "    next_state = (min(shape[0]-1, state[0]+1), state[1])\n",
        "  elif action == 'left':\n",
        "    next_state = (state[0], max(0, state[1]-1))\n",
        "  elif action == 'right':\n",
        "    next_state = (state[0], min(shape[1]-1, state[1]+1))\n",
        "  return next_state"
      ],
      "metadata": {
        "id": "ynCUuDVm722y"
      },
      "execution_count": 4,
      "outputs": []
    },
    {
      "cell_type": "code",
      "source": [
        "# 2, value iteration\n",
        "#(1) Initialize the value function\n",
        "V = np.zeros(shape)\n",
        "\n",
        "# (2) Value iteration\n",
        "\n",
        "while True:\n",
        "  delta = 0\n",
        "  for i in range(shape[0]):\n",
        "    for j in range(shape[1]):\n",
        "      if (i,j) in terminal:\n",
        "        continue\n",
        "      v = V[i,j]\n",
        "      V[i,j] = sum((reward[i,j] + gamma * V[P((i,j),a)]) for a in actions) / numa\n",
        "      delta = max(delta, abs(v-V[i,j]))\n",
        "  if delta <0.00001:\n",
        "    break\n"
      ],
      "metadata": {
        "colab": {
          "base_uri": "https://localhost:8080/",
          "height": 418
        },
        "id": "oino_b1O8f7R",
        "outputId": "3ec0ac17-e76f-4d07-da83-748a3b53d7fb"
      },
      "execution_count": 5,
      "outputs": [
        {
          "output_type": "error",
          "ename": "KeyboardInterrupt",
          "evalue": "ignored",
          "traceback": [
            "\u001b[0;31m---------------------------------------------------------------------------\u001b[0m",
            "\u001b[0;31mKeyboardInterrupt\u001b[0m                         Traceback (most recent call last)",
            "\u001b[0;32m<ipython-input-5-1e843ec8f6f2>\u001b[0m in \u001b[0;36m<cell line: 7>\u001b[0;34m()\u001b[0m\n\u001b[1;32m     12\u001b[0m         \u001b[0;32mcontinue\u001b[0m\u001b[0;34m\u001b[0m\u001b[0;34m\u001b[0m\u001b[0m\n\u001b[1;32m     13\u001b[0m       \u001b[0mv\u001b[0m \u001b[0;34m=\u001b[0m \u001b[0mV\u001b[0m\u001b[0;34m[\u001b[0m\u001b[0mi\u001b[0m\u001b[0;34m,\u001b[0m\u001b[0mj\u001b[0m\u001b[0;34m]\u001b[0m\u001b[0;34m\u001b[0m\u001b[0;34m\u001b[0m\u001b[0m\n\u001b[0;32m---> 14\u001b[0;31m       \u001b[0mV\u001b[0m\u001b[0;34m[\u001b[0m\u001b[0mi\u001b[0m\u001b[0;34m,\u001b[0m\u001b[0mj\u001b[0m\u001b[0;34m]\u001b[0m \u001b[0;34m=\u001b[0m \u001b[0msum\u001b[0m\u001b[0;34m(\u001b[0m\u001b[0;34m(\u001b[0m\u001b[0mreward\u001b[0m\u001b[0;34m[\u001b[0m\u001b[0mi\u001b[0m\u001b[0;34m,\u001b[0m\u001b[0mj\u001b[0m\u001b[0;34m]\u001b[0m \u001b[0;34m+\u001b[0m \u001b[0mgamma\u001b[0m \u001b[0;34m*\u001b[0m \u001b[0mV\u001b[0m\u001b[0;34m[\u001b[0m\u001b[0mP\u001b[0m\u001b[0;34m(\u001b[0m\u001b[0;34m(\u001b[0m\u001b[0mi\u001b[0m\u001b[0;34m,\u001b[0m\u001b[0mj\u001b[0m\u001b[0;34m)\u001b[0m\u001b[0;34m,\u001b[0m\u001b[0ma\u001b[0m\u001b[0;34m)\u001b[0m\u001b[0;34m]\u001b[0m\u001b[0;34m)\u001b[0m \u001b[0;32mfor\u001b[0m \u001b[0ma\u001b[0m \u001b[0;32min\u001b[0m \u001b[0mactions\u001b[0m\u001b[0;34m)\u001b[0m \u001b[0;34m/\u001b[0m \u001b[0mnuma\u001b[0m\u001b[0;34m\u001b[0m\u001b[0;34m\u001b[0m\u001b[0m\n\u001b[0m\u001b[1;32m     15\u001b[0m       \u001b[0mdelta\u001b[0m \u001b[0;34m=\u001b[0m \u001b[0mmax\u001b[0m\u001b[0;34m(\u001b[0m\u001b[0mdelta\u001b[0m\u001b[0;34m,\u001b[0m \u001b[0mabs\u001b[0m\u001b[0;34m(\u001b[0m\u001b[0mv\u001b[0m\u001b[0;34m-\u001b[0m\u001b[0mV\u001b[0m\u001b[0;34m[\u001b[0m\u001b[0mi\u001b[0m\u001b[0;34m,\u001b[0m\u001b[0mj\u001b[0m\u001b[0;34m]\u001b[0m\u001b[0;34m)\u001b[0m\u001b[0;34m)\u001b[0m\u001b[0;34m\u001b[0m\u001b[0;34m\u001b[0m\u001b[0m\n\u001b[1;32m     16\u001b[0m   \u001b[0;32mif\u001b[0m \u001b[0mdelta\u001b[0m \u001b[0;34m<\u001b[0m\u001b[0;36m0.00001\u001b[0m\u001b[0;34m:\u001b[0m\u001b[0;34m\u001b[0m\u001b[0;34m\u001b[0m\u001b[0m\n",
            "\u001b[0;32m<ipython-input-5-1e843ec8f6f2>\u001b[0m in \u001b[0;36m<genexpr>\u001b[0;34m(.0)\u001b[0m\n\u001b[1;32m     12\u001b[0m         \u001b[0;32mcontinue\u001b[0m\u001b[0;34m\u001b[0m\u001b[0;34m\u001b[0m\u001b[0m\n\u001b[1;32m     13\u001b[0m       \u001b[0mv\u001b[0m \u001b[0;34m=\u001b[0m \u001b[0mV\u001b[0m\u001b[0;34m[\u001b[0m\u001b[0mi\u001b[0m\u001b[0;34m,\u001b[0m\u001b[0mj\u001b[0m\u001b[0;34m]\u001b[0m\u001b[0;34m\u001b[0m\u001b[0;34m\u001b[0m\u001b[0m\n\u001b[0;32m---> 14\u001b[0;31m       \u001b[0mV\u001b[0m\u001b[0;34m[\u001b[0m\u001b[0mi\u001b[0m\u001b[0;34m,\u001b[0m\u001b[0mj\u001b[0m\u001b[0;34m]\u001b[0m \u001b[0;34m=\u001b[0m \u001b[0msum\u001b[0m\u001b[0;34m(\u001b[0m\u001b[0;34m(\u001b[0m\u001b[0mreward\u001b[0m\u001b[0;34m[\u001b[0m\u001b[0mi\u001b[0m\u001b[0;34m,\u001b[0m\u001b[0mj\u001b[0m\u001b[0;34m]\u001b[0m \u001b[0;34m+\u001b[0m \u001b[0mgamma\u001b[0m \u001b[0;34m*\u001b[0m \u001b[0mV\u001b[0m\u001b[0;34m[\u001b[0m\u001b[0mP\u001b[0m\u001b[0;34m(\u001b[0m\u001b[0;34m(\u001b[0m\u001b[0mi\u001b[0m\u001b[0;34m,\u001b[0m\u001b[0mj\u001b[0m\u001b[0;34m)\u001b[0m\u001b[0;34m,\u001b[0m\u001b[0ma\u001b[0m\u001b[0;34m)\u001b[0m\u001b[0;34m]\u001b[0m\u001b[0;34m)\u001b[0m \u001b[0;32mfor\u001b[0m \u001b[0ma\u001b[0m \u001b[0;32min\u001b[0m \u001b[0mactions\u001b[0m\u001b[0;34m)\u001b[0m \u001b[0;34m/\u001b[0m \u001b[0mnuma\u001b[0m\u001b[0;34m\u001b[0m\u001b[0;34m\u001b[0m\u001b[0m\n\u001b[0m\u001b[1;32m     15\u001b[0m       \u001b[0mdelta\u001b[0m \u001b[0;34m=\u001b[0m \u001b[0mmax\u001b[0m\u001b[0;34m(\u001b[0m\u001b[0mdelta\u001b[0m\u001b[0;34m,\u001b[0m \u001b[0mabs\u001b[0m\u001b[0;34m(\u001b[0m\u001b[0mv\u001b[0m\u001b[0;34m-\u001b[0m\u001b[0mV\u001b[0m\u001b[0;34m[\u001b[0m\u001b[0mi\u001b[0m\u001b[0;34m,\u001b[0m\u001b[0mj\u001b[0m\u001b[0;34m]\u001b[0m\u001b[0;34m)\u001b[0m\u001b[0;34m)\u001b[0m\u001b[0;34m\u001b[0m\u001b[0;34m\u001b[0m\u001b[0m\n\u001b[1;32m     16\u001b[0m   \u001b[0;32mif\u001b[0m \u001b[0mdelta\u001b[0m \u001b[0;34m<\u001b[0m\u001b[0;36m0.00001\u001b[0m\u001b[0;34m:\u001b[0m\u001b[0;34m\u001b[0m\u001b[0;34m\u001b[0m\u001b[0m\n",
            "\u001b[0;31mKeyboardInterrupt\u001b[0m: "
          ]
        }
      ]
    },
    {
      "cell_type": "code",
      "source": [
        "# 2. value iteration\n",
        "# (3) Extract the optimal policy\n",
        "optimal_policy = {}\n",
        "for i in range(shape[0]):\n",
        "  for j in range(shape[1]):\n",
        "    if (i,j) in terminal:\n",
        "      optimal_policy[i,j] = 'terminals'\n",
        "    else:\n",
        "      optimal_policy[i,j] = actions[np.argmax([(reward[i,j]\n",
        "                                                  + gamma * V[P((i,j),a)]) for a in actions])]\n",
        "\n"
      ],
      "metadata": {
        "id": "clEv9IQr94yu"
      },
      "execution_count": null,
      "outputs": []
    },
    {
      "cell_type": "code",
      "source": [
        "# 3, 결과 출력\n",
        "print(\"Optimal policy is:\")\n",
        "for i in range(shape[0]):\n",
        "  for j in range(shape[1]):\n",
        "    print(f\"({i},{j}): {optimal_policy[i,j]}\")\n",
        "    print(\"\\nOptimal value function is:\")\n",
        "for i in range(shape[0]):\n",
        "  for j in range(shape[1]):\n",
        "    print(f\"V({i},{j}): {V[i,j]}\")"
      ],
      "metadata": {
        "id": "fAEIEST7fz6z"
      },
      "execution_count": null,
      "outputs": []
    },
    {
      "cell_type": "code",
      "source": [
        "policy = {state: np.random.choice(actions) for state in [(i,j) for i in range(shape[0]) for j in range(shape[1])] if state not in terminal}\n",
        "\n",
        "#Policy iteration\n",
        "while True:\n",
        "  #Policy evaluation\n",
        "  while True:\n",
        "    delta = 0\n",
        "    for i in range(shape[0]):\n",
        "      for j in range(shape[1]):\n",
        "        if (i,j) in terminal:\n",
        "          continue\n",
        "        v = V[i,j]\n",
        "        action = policy[(i,j)]\n",
        "        V[i,j] = reward[i,j] + gamma * V[transition((i,j),action)]\n",
        "        delta = max(delta, abs(v- V[i,j]))\n",
        "      if delta <2.01:\n",
        "        break"
      ],
      "metadata": {
        "colab": {
          "base_uri": "https://localhost:8080/",
          "height": 146
        },
        "id": "f3952ppkluU-",
        "outputId": "11fddd3a-7694-4f5d-b52e-de38492b5a83"
      },
      "execution_count": 6,
      "outputs": [
        {
          "output_type": "error",
          "ename": "SyntaxError",
          "evalue": "ignored",
          "traceback": [
            "\u001b[0;36m  File \u001b[0;32m\"<ipython-input-6-9592c200b62c>\"\u001b[0;36m, line \u001b[0;32m9\u001b[0m\n\u001b[0;31m    for j in range(shape[1]):\u001b[0m\n\u001b[0m                             ^\u001b[0m\n\u001b[0;31mSyntaxError\u001b[0m\u001b[0;31m:\u001b[0m incomplete input\n"
          ]
        }
      ]
    },
    {
      "cell_type": "code",
      "source": [
        "#Policy improvement\n",
        "policy_stable = True\n",
        "for i in range(shape[0]):\n",
        "  for j in range(shape[1]):\n",
        "    if (i,j) in termainals:\n",
        "      continue\n",
        "    old_action = policy[(i,j)]\n",
        "    policy[(i,j)] = actions[np.argmax([reward[i,j]\n",
        "                                       + gamma * V[trasition((i,j),action)] for  action in actions])]\n",
        "    if old_action != policy[(i,j)]:\n",
        "      policy_stable = False\n",
        "\n",
        "if policy_stable:\n",
        "  break"
      ],
      "metadata": {
        "id": "MIy2iQgRnNLQ"
      },
      "execution_count": null,
      "outputs": []
    }
  ]
}